{
 "cells": [
  {
   "cell_type": "code",
   "execution_count": 2,
   "metadata": {
    "collapsed": true,
    "ExecuteTime": {
     "end_time": "2023-07-24T16:02:44.059241100Z",
     "start_time": "2023-07-24T16:02:43.989234900Z"
    }
   },
   "outputs": [
    {
     "data": {
      "text/plain": "      price  area  bedrooms  bathrooms  stories mainroad guestroom basement  \\\n0  13300000  7420         4          2        3      yes        no       no   \n1  12250000  8960         4          4        4      yes        no       no   \n2  12250000  9960         3          2        2      yes        no      yes   \n3  12215000  7500         4          2        2      yes        no      yes   \n4  11410000  7420         4          1        2      yes       yes      yes   \n\n  hotwaterheating airconditioning  parking prefarea furnishingstatus  \n0              no             yes        2      yes        furnished  \n1              no             yes        3       no        furnished  \n2              no              no        2      yes   semi-furnished  \n3              no             yes        3      yes        furnished  \n4              no             yes        2       no        furnished  ",
      "text/html": "<div>\n<style scoped>\n    .dataframe tbody tr th:only-of-type {\n        vertical-align: middle;\n    }\n\n    .dataframe tbody tr th {\n        vertical-align: top;\n    }\n\n    .dataframe thead th {\n        text-align: right;\n    }\n</style>\n<table border=\"1\" class=\"dataframe\">\n  <thead>\n    <tr style=\"text-align: right;\">\n      <th></th>\n      <th>price</th>\n      <th>area</th>\n      <th>bedrooms</th>\n      <th>bathrooms</th>\n      <th>stories</th>\n      <th>mainroad</th>\n      <th>guestroom</th>\n      <th>basement</th>\n      <th>hotwaterheating</th>\n      <th>airconditioning</th>\n      <th>parking</th>\n      <th>prefarea</th>\n      <th>furnishingstatus</th>\n    </tr>\n  </thead>\n  <tbody>\n    <tr>\n      <th>0</th>\n      <td>13300000</td>\n      <td>7420</td>\n      <td>4</td>\n      <td>2</td>\n      <td>3</td>\n      <td>yes</td>\n      <td>no</td>\n      <td>no</td>\n      <td>no</td>\n      <td>yes</td>\n      <td>2</td>\n      <td>yes</td>\n      <td>furnished</td>\n    </tr>\n    <tr>\n      <th>1</th>\n      <td>12250000</td>\n      <td>8960</td>\n      <td>4</td>\n      <td>4</td>\n      <td>4</td>\n      <td>yes</td>\n      <td>no</td>\n      <td>no</td>\n      <td>no</td>\n      <td>yes</td>\n      <td>3</td>\n      <td>no</td>\n      <td>furnished</td>\n    </tr>\n    <tr>\n      <th>2</th>\n      <td>12250000</td>\n      <td>9960</td>\n      <td>3</td>\n      <td>2</td>\n      <td>2</td>\n      <td>yes</td>\n      <td>no</td>\n      <td>yes</td>\n      <td>no</td>\n      <td>no</td>\n      <td>2</td>\n      <td>yes</td>\n      <td>semi-furnished</td>\n    </tr>\n    <tr>\n      <th>3</th>\n      <td>12215000</td>\n      <td>7500</td>\n      <td>4</td>\n      <td>2</td>\n      <td>2</td>\n      <td>yes</td>\n      <td>no</td>\n      <td>yes</td>\n      <td>no</td>\n      <td>yes</td>\n      <td>3</td>\n      <td>yes</td>\n      <td>furnished</td>\n    </tr>\n    <tr>\n      <th>4</th>\n      <td>11410000</td>\n      <td>7420</td>\n      <td>4</td>\n      <td>1</td>\n      <td>2</td>\n      <td>yes</td>\n      <td>yes</td>\n      <td>yes</td>\n      <td>no</td>\n      <td>yes</td>\n      <td>2</td>\n      <td>no</td>\n      <td>furnished</td>\n    </tr>\n  </tbody>\n</table>\n</div>"
     },
     "execution_count": 2,
     "metadata": {},
     "output_type": "execute_result"
    }
   ],
   "source": [
    "import pandas as pd\n",
    "\n",
    "# Load the data\n",
    "data = pd.read_csv('Housing.csv')\n",
    "\n",
    "# Display the first few rows of the dataframe\n",
    "data.head()\n"
   ]
  },
  {
   "cell_type": "code",
   "execution_count": null,
   "outputs": [],
   "source": [
    "# Check the structure of the data\n",
    "data.info()\n"
   ],
   "metadata": {
    "collapsed": false
   }
  },
  {
   "cell_type": "code",
   "execution_count": null,
   "outputs": [],
   "source": [
    "# Descriptive statistics for numerical columns\n",
    "data.describe()\n"
   ],
   "metadata": {
    "collapsed": false
   }
  }
 ],
 "metadata": {
  "kernelspec": {
   "display_name": "Python 3",
   "language": "python",
   "name": "python3"
  },
  "language_info": {
   "codemirror_mode": {
    "name": "ipython",
    "version": 2
   },
   "file_extension": ".py",
   "mimetype": "text/x-python",
   "name": "python",
   "nbconvert_exporter": "python",
   "pygments_lexer": "ipython2",
   "version": "2.7.6"
  }
 },
 "nbformat": 4,
 "nbformat_minor": 0
}
